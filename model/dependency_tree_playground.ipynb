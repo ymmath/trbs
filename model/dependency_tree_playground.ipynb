{
 "cells": [
  {
   "cell_type": "markdown",
   "id": "9d30ec24",
   "metadata": {},
   "source": [
    "Next steps:\n",
    "- [ ] Add legend\n",
    "- [ ] Adjust positioning of the graph nodes. I.e., internal inputs (blue) at the top and key outputs (green) at the bottom\n",
    "- [ ] [Code cleaning and robusting]...\n",
    "- [ ] Jacques review\n",
    "- [ ] [Some more code cleaning and robusting]...\n",
    "- [ ] Add unit tests?"
   ]
  },
  {
   "cell_type": "code",
   "execution_count": 2,
   "id": "36e9773f373a0f84",
   "metadata": {
    "ExecuteTime": {
     "end_time": "2023-09-25T09:34:30.509463300Z",
     "start_time": "2023-09-25T09:34:22.662888800Z"
    }
   },
   "outputs": [],
   "source": [
    "import pandas as pd\n",
    "import networkx as nx\n",
    "import matplotlib.pyplot as plt\n",
    "from pyvis.network import Network\n",
    "from pathlib import Path\n",
    "from core.trbs import TheResponsibleBusinessSimulator\n",
    "import math \n",
    "import numpy as np\n",
    "\n",
    "def determine_category(node):\n",
    "    if node in input_dict[\"key_outputs\"]:\n",
    "        return \"key_output\"\n",
    "    elif node in input_dict[\"internal_variable_inputs\"]:\n",
    "        return \"internal_input\"\n",
    "    elif node in input_dict[\"external_variable_inputs\"]:\n",
    "        return \"external_input\"\n",
    "    elif node in input_dict[\"fixed_inputs\"]:\n",
    "        return \"fixed_input\"\n",
    "    else:\n",
    "        return \"intermediate\"\n",
    "\n",
    "def category_color(node):\n",
    "    category_is = determine_category(node)\n",
    "    if category_is == 'fixed_input':\n",
    "        return 'yellow'\n",
    "    elif category_is == 'external_input':\n",
    "        return 'orange'\n",
    "    elif category_is == 'internal_input':\n",
    "        return 'blue'\n",
    "    elif category_is == 'key_output':\n",
    "        return 'green'\n",
    "    else:\n",
    "        # intermediaries and other unaccounted categories\n",
    "        return 'grey' "
   ]
  },
  {
   "cell_type": "code",
   "execution_count": 3,
   "id": "d29943a03a371226",
   "metadata": {
    "ExecuteTime": {
     "end_time": "2023-09-20T08:09:59.066883Z",
     "start_time": "2023-09-20T08:09:59.025769500Z"
    }
   },
   "outputs": [
    {
     "name": "stdout",
     "output_type": "stream",
     "text": [
      "Creating 'toy'\n",
      "Hierarchy calculated in 2 iterations\n"
     ]
    },
    {
     "data": {
      "text/html": [
       "<div>\n",
       "<style scoped>\n",
       "    .dataframe tbody tr th:only-of-type {\n",
       "        vertical-align: middle;\n",
       "    }\n",
       "\n",
       "    .dataframe tbody tr th {\n",
       "        vertical-align: top;\n",
       "    }\n",
       "\n",
       "    .dataframe thead th {\n",
       "        text-align: right;\n",
       "    }\n",
       "</style>\n",
       "<table border=\"1\" class=\"dataframe\">\n",
       "  <thead>\n",
       "    <tr style=\"text-align: right;\">\n",
       "      <th></th>\n",
       "      <th>argument_1</th>\n",
       "      <th>operator</th>\n",
       "      <th>argument_2</th>\n",
       "      <th>destination</th>\n",
       "    </tr>\n",
       "  </thead>\n",
       "  <tbody>\n",
       "    <tr>\n",
       "      <th>0</th>\n",
       "      <td>investment in apples</td>\n",
       "      <td>*</td>\n",
       "      <td>% ROI apples</td>\n",
       "      <td>profit</td>\n",
       "    </tr>\n",
       "    <tr>\n",
       "      <th>1</th>\n",
       "      <td>investment in machinery</td>\n",
       "      <td>*</td>\n",
       "      <td>% ROI machinery</td>\n",
       "      <td>profit</td>\n",
       "    </tr>\n",
       "    <tr>\n",
       "      <th>2</th>\n",
       "      <td>investment in machinery</td>\n",
       "      <td>/</td>\n",
       "      <td>cost of machines</td>\n",
       "      <td>number of machines</td>\n",
       "    </tr>\n",
       "    <tr>\n",
       "      <th>3</th>\n",
       "      <td>number of machines</td>\n",
       "      <td>*</td>\n",
       "      <td>efficiency per machine</td>\n",
       "      <td>efficiency</td>\n",
       "    </tr>\n",
       "  </tbody>\n",
       "</table>\n",
       "</div>"
      ],
      "text/plain": [
       "                argument_1 operator              argument_2  \\\n",
       "0     investment in apples        *            % ROI apples   \n",
       "1  investment in machinery        *         % ROI machinery   \n",
       "2  investment in machinery        /        cost of machines   \n",
       "3       number of machines        *  efficiency per machine   \n",
       "\n",
       "          destination  \n",
       "0              profit  \n",
       "1              profit  \n",
       "2  number of machines  \n",
       "3          efficiency  "
      ]
     },
     "execution_count": 3,
     "metadata": {},
     "output_type": "execute_result"
    }
   ],
   "source": [
    "# Read the CSV file\n",
    "data = pd.read_csv('data/toy/csv/dependencies.csv')\n",
    "\n",
    "path = Path.cwd() / 'data'\n",
    "file_format = 'xlsx'\n",
    "name = 'toy'\n",
    "\n",
    "case = TheResponsibleBusinessSimulator(path, file_format, name)\n",
    "case.build()\n",
    "data = pd.DataFrame({'argument_1': case.input_dict['argument_1'], 'operator': case.input_dict['operator'], \n",
    "              'argument_2': case.input_dict['argument_2'], 'destination': case.input_dict['destination']})\n",
    "data"
   ]
  },
  {
   "cell_type": "code",
   "execution_count": 4,
   "id": "eda153052d55f6d",
   "metadata": {
    "ExecuteTime": {
     "end_time": "2023-09-20T08:09:59.320072200Z",
     "start_time": "2023-09-20T08:09:59.094291700Z"
    }
   },
   "outputs": [
    {
     "data": {
      "image/png": "[encoded data removed]",
      "text/plain": [
       "<Figure size 1200x800 with 1 Axes>"
      ]
     },
     "metadata": {},
     "output_type": "display_data"
    }
   ],
   "source": [
    "# Initialize a directed graph\n",
    "G = nx.DiGraph()\n",
    "\n",
    "# Iterate through the rows of the DataFrame to add nodes and edges\n",
    "for index, row in data.iterrows():\n",
    "    destination = row['destination']\n",
    "    argument_1 = row['argument_1']\n",
    "    argument_2 = row['argument_2']\n",
    "    operator = row['operator']\n",
    "    \n",
    "    # Add nodes for destination, argument_1, and argument_2\n",
    "    G.add_node(destination)\n",
    "    G.add_node(argument_1)\n",
    "    G.add_node(argument_2)\n",
    "    \n",
    "    # Add an edge from argument_1 to destination with the operator as the label\n",
    "    if pd.isna(argument_1):\n",
    "        G.add_edge(argument_2, destination, operator='squeezed')\n",
    "    elif pd.isna(argument_2):\n",
    "        G.add_edge(argument_1, destination, operator='squeezed')\n",
    "    else:\n",
    "        G.add_edge(argument_1, argument_2, operator=operator)\n",
    "        # Later make function so that based on category, we make the edge to destination\n",
    "        G.add_edge(argument_2, destination, operator='=')\n",
    "\n",
    "# Define the layout for the graph (you can use different layouts)\n",
    "pos = nx.spring_layout(G, seed=42)\n",
    "\n",
    "# Draw the graph\n",
    "plt.figure(figsize=(12, 8))\n",
    "nx.draw(G, pos, with_labels=True, node_size=800, node_color='lightblue', font_size=10, font_color='black')\n",
    "edge_labels = nx.get_edge_attributes(G, 'operator')\n",
    "nx.draw_networkx_edge_labels(G, pos, edge_labels=edge_labels, font_size=14, font_color='red')\n",
    "plt.title('Operation Network Graph')\n",
    "plt.show()\n"
   ]
  },
  {
   "cell_type": "code",
   "execution_count": 5,
   "id": "ab17894e",
   "metadata": {
    "ExecuteTime": {
     "end_time": "2023-09-20T08:09:59.468939400Z",
     "start_time": "2023-09-20T08:09:59.324075400Z"
    }
   },
   "outputs": [],
   "source": [
    "# Initialize a directed graph\n",
    "G = nx.DiGraph()\n",
    "\n",
    "input_dict = case.input_dict\n",
    "\n",
    "# Iterate through the rows of the DataFrame to add nodes and edges\n",
    "for index, row in data.iterrows():\n",
    "    destination = row['destination']\n",
    "    argument_1 = row['argument_1']\n",
    "    argument_2 = row['argument_2']\n",
    "    operator = row['operator']\n",
    "    \n",
    "    # Add nodes for destination, argument_1, and argument_2\n",
    "    G.add_node(destination, color = category_color(destination))\n",
    "    G.add_node(argument_1, color = category_color(argument_1))\n",
    "    G.add_node(argument_2, color = category_color(argument_2))\n",
    "    \n",
    "    # Add an edge from argument_1 to destination with the operator as the label\n",
    "    if pd.isna(argument_1):\n",
    "        G.add_edge(argument_2, destination, label='squeezed', color='black')\n",
    "    elif pd.isna(argument_2):\n",
    "        G.add_edge(argument_1, destination, label='squeezed', color='black')\n",
    "    else:\n",
    "        G.add_edge(argument_1, argument_2, label=operator, color='black')\n",
    "        # Later make function so that based on category, we make the edge to destination\n",
    "        G.add_edge(argument_2, destination, label='=', color='black')"
   ]
  },
  {
   "cell_type": "code",
   "execution_count": 6,
   "id": "7adabfec13a9c2e3",
   "metadata": {
    "ExecuteTime": {
     "end_time": "2023-09-20T08:09:59.468939400Z",
     "start_time": "2023-09-20T08:09:59.324075400Z"
    },
    "scrolled": false
   },
   "outputs": [
    {
     "name": "stdout",
     "output_type": "stream",
     "text": [
      "example.html\n"
     ]
    },
    {
     "data": {
      "text/html": [
       "\n",
       "        <iframe\n",
       "            width=\"100%\"\n",
       "            height=\"600px\"\n",
       "            src=\"example.html\"\n",
       "            frameborder=\"0\"\n",
       "            allowfullscreen\n",
       "            \n",
       "        ></iframe>\n",
       "        "
      ],
      "text/plain": [
       "<IPython.lib.display.IFrame at 0x1fbef4dca30>"
      ]
     },
     "execution_count": 6,
     "metadata": {},
     "output_type": "execute_result"
    }
   ],
   "source": [
    "# Define the layout for the graph (you can use different layouts)\n",
    "pos = nx.spectral_layout(G)\n",
    "\n",
    "net = Network(notebook=True, cdn_resources='remote')\n",
    "net.from_nx(G)\n",
    "net.show_buttons()\n",
    "net.show(\"example.html\")"
   ]
  },
  {
   "cell_type": "markdown",
   "id": "6bb30d7a",
   "metadata": {},
   "source": [
    "## For the Nyenrode Exercise case"
   ]
  },
  {
   "cell_type": "code",
   "execution_count": 12,
   "id": "36b8dc4a",
   "metadata": {},
   "outputs": [
    {
     "name": "stdout",
     "output_type": "stream",
     "text": [
      "Creating 'FinalTemplate'\n",
      "Hierarchy calculated in 4 iterations\n"
     ]
    }
   ],
   "source": [
    "# Read the CSV file\n",
    "data = pd.read_csv('data/toy/csv/dependencies.csv')\n",
    "\n",
    "path = Path.cwd() / 'data'\n",
    "file_format = 'xlsx'\n",
    "name = 'FinalTemplate'\n",
    "\n",
    "case = TheResponsibleBusinessSimulator(path, file_format, name)\n",
    "case.build()\n",
    "\n",
    "data = pd.DataFrame({'argument_1': case.input_dict['argument_1'], 'operator': case.input_dict['operator'], \n",
    "              'argument_2': case.input_dict['argument_2'], 'destination': case.input_dict['destination']})"
   ]
  },
  {
   "cell_type": "code",
   "execution_count": 13,
   "id": "f210ac24",
   "metadata": {
    "scrolled": true
   },
   "outputs": [
    {
     "name": "stdout",
     "output_type": "stream",
     "text": [
      "example.html\n"
     ]
    },
    {
     "data": {
      "text/html": [
       "\n",
       "        <iframe\n",
       "            width=\"100%\"\n",
       "            height=\"600px\"\n",
       "            src=\"example.html\"\n",
       "            frameborder=\"0\"\n",
       "            allowfullscreen\n",
       "            \n",
       "        ></iframe>\n",
       "        "
      ],
      "text/plain": [
       "<IPython.lib.display.IFrame at 0x1fbeed2dbb0>"
      ]
     },
     "execution_count": 13,
     "metadata": {},
     "output_type": "execute_result"
    }
   ],
   "source": [
    "# Initialize a directed graph\n",
    "G = nx.DiGraph()\n",
    "\n",
    "input_dict = case.input_dict\n",
    "\n",
    "# Iterate through the rows of the DataFrame to add nodes and edges\n",
    "for index, row in data.iterrows():\n",
    "    destination = row['destination']\n",
    "    argument_1 = row['argument_1']\n",
    "    argument_2 = row['argument_2']\n",
    "    operator = row['operator']\n",
    "    \n",
    "    # Add nodes for destination, argument_1, and argument_2\n",
    "    G.add_node(destination, color = category_color(destination))\n",
    "    G.add_node(argument_1, color = category_color(argument_1))\n",
    "    G.add_node(argument_2, color = category_color(argument_2))\n",
    "    \n",
    "    # Add an edge from argument_1 to destination with the operator as the label\n",
    "    if pd.isna(argument_1):\n",
    "        G.add_edge(argument_2, destination, label='squeezed', color='black')\n",
    "    elif pd.isna(argument_2):\n",
    "        G.add_edge(argument_1, destination, label='squeezed', color='black')\n",
    "    else:\n",
    "        G.add_edge(argument_1, argument_2, label=operator, color='black')\n",
    "        # Later make function so that based on category, we make the edge to destination\n",
    "        G.add_edge(argument_2, destination, label='=', color='black')\n",
    "        \n",
    "# Define the layout for the graph (you can use different layouts)\n",
    "pos = nx.spring_layout(G, seed=42)\n",
    "\n",
    "net = Network(notebook=True, cdn_resources='remote')\n",
    "net.from_nx(G)\n",
    "net.show_buttons()\n",
    "net.show(\"example.html\")"
   ]
  },
  {
   "cell_type": "markdown",
   "id": "61fe0e21",
   "metadata": {},
   "source": [
    "## For the beerwiser case"
   ]
  },
  {
   "cell_type": "code",
   "execution_count": 9,
   "id": "4d599998",
   "metadata": {},
   "outputs": [
    {
     "name": "stdout",
     "output_type": "stream",
     "text": [
      "Creating 'beerwiser'\n",
      "Hierarchy calculated in 5 iterations\n"
     ]
    },
    {
     "data": {
      "text/html": [
       "<div>\n",
       "<style scoped>\n",
       "    .dataframe tbody tr th:only-of-type {\n",
       "        vertical-align: middle;\n",
       "    }\n",
       "\n",
       "    .dataframe tbody tr th {\n",
       "        vertical-align: top;\n",
       "    }\n",
       "\n",
       "    .dataframe thead th {\n",
       "        text-align: right;\n",
       "    }\n",
       "</style>\n",
       "<table border=\"1\" class=\"dataframe\">\n",
       "  <thead>\n",
       "    <tr style=\"text-align: right;\">\n",
       "      <th></th>\n",
       "      <th>argument_1</th>\n",
       "      <th>operator</th>\n",
       "      <th>argument_2</th>\n",
       "      <th>destination</th>\n",
       "    </tr>\n",
       "  </thead>\n",
       "  <tbody>\n",
       "    <tr>\n",
       "      <th>0</th>\n",
       "      <td>Invest in training of employees</td>\n",
       "      <td>squeezed *</td>\n",
       "      <td>NaN</td>\n",
       "      <td>Accidents reduction %</td>\n",
       "    </tr>\n",
       "    <tr>\n",
       "      <th>1</th>\n",
       "      <td>Invest in water recycling</td>\n",
       "      <td>squeezed *</td>\n",
       "      <td>NaN</td>\n",
       "      <td>Water use reduction % when effective</td>\n",
       "    </tr>\n",
       "    <tr>\n",
       "      <th>2</th>\n",
       "      <td>Invest in training of employees</td>\n",
       "      <td>/</td>\n",
       "      <td># employees</td>\n",
       "      <td>Cost of training per employee</td>\n",
       "    </tr>\n",
       "    <tr>\n",
       "      <th>3</th>\n",
       "      <td>Water use reduction % when effective</td>\n",
       "      <td>*</td>\n",
       "      <td>Effectiveness water recycling</td>\n",
       "      <td>Water use reduction %</td>\n",
       "    </tr>\n",
       "    <tr>\n",
       "      <th>4</th>\n",
       "      <td>Current # accidents</td>\n",
       "      <td>*</td>\n",
       "      <td>Accidents reduction %</td>\n",
       "      <td>Accidents reduction</td>\n",
       "    </tr>\n",
       "    <tr>\n",
       "      <th>5</th>\n",
       "      <td>Water use reduction %</td>\n",
       "      <td>*</td>\n",
       "      <td>Current water use</td>\n",
       "      <td>Water use reduction</td>\n",
       "    </tr>\n",
       "    <tr>\n",
       "      <th>6</th>\n",
       "      <td>Accidents reduction</td>\n",
       "      <td>*</td>\n",
       "      <td>Cost of accident</td>\n",
       "      <td>Production cost reduction $</td>\n",
       "    </tr>\n",
       "    <tr>\n",
       "      <th>7</th>\n",
       "      <td>Current # accidents</td>\n",
       "      <td>-</td>\n",
       "      <td>Accidents reduction</td>\n",
       "      <td>New # accidents</td>\n",
       "    </tr>\n",
       "    <tr>\n",
       "      <th>8</th>\n",
       "      <td>Water use reduction</td>\n",
       "      <td>*</td>\n",
       "      <td>Water unit cost</td>\n",
       "      <td>Production cost reduction $</td>\n",
       "    </tr>\n",
       "    <tr>\n",
       "      <th>9</th>\n",
       "      <td>Current water use</td>\n",
       "      <td>-</td>\n",
       "      <td>Water use reduction</td>\n",
       "      <td>New water use</td>\n",
       "    </tr>\n",
       "    <tr>\n",
       "      <th>10</th>\n",
       "      <td>Production cost reduction $</td>\n",
       "      <td>/</td>\n",
       "      <td>Current production cost</td>\n",
       "      <td>Production cost reduction</td>\n",
       "    </tr>\n",
       "  </tbody>\n",
       "</table>\n",
       "</div>"
      ],
      "text/plain": [
       "                              argument_1    operator  \\\n",
       "0        Invest in training of employees  squeezed *   \n",
       "1              Invest in water recycling  squeezed *   \n",
       "2        Invest in training of employees           /   \n",
       "3   Water use reduction % when effective           *   \n",
       "4                    Current # accidents           *   \n",
       "5                  Water use reduction %           *   \n",
       "6                    Accidents reduction           *   \n",
       "7                    Current # accidents           -   \n",
       "8                    Water use reduction           *   \n",
       "9                      Current water use           -   \n",
       "10           Production cost reduction $           /   \n",
       "\n",
       "                       argument_2                           destination  \n",
       "0                             NaN                 Accidents reduction %  \n",
       "1                             NaN  Water use reduction % when effective  \n",
       "2                     # employees         Cost of training per employee  \n",
       "3   Effectiveness water recycling                 Water use reduction %  \n",
       "4           Accidents reduction %                   Accidents reduction  \n",
       "5               Current water use                   Water use reduction  \n",
       "6                Cost of accident           Production cost reduction $  \n",
       "7             Accidents reduction                       New # accidents  \n",
       "8                 Water unit cost           Production cost reduction $  \n",
       "9             Water use reduction                         New water use  \n",
       "10        Current production cost             Production cost reduction  "
      ]
     },
     "execution_count": 9,
     "metadata": {},
     "output_type": "execute_result"
    }
   ],
   "source": [
    "# Read the CSV file\n",
    "data = pd.read_csv('data/toy/csv/dependencies.csv')\n",
    "\n",
    "path = Path.cwd() / 'data'\n",
    "file_format = 'xlsx'\n",
    "name = 'beerwiser'\n",
    "\n",
    "case = TheResponsibleBusinessSimulator(path, file_format, name)\n",
    "case.build()\n",
    "\n",
    "data = pd.DataFrame({'argument_1': case.input_dict['argument_1'], 'operator': case.input_dict['operator'], \n",
    "              'argument_2': case.input_dict['argument_2'], 'destination': case.input_dict['destination']})\n",
    "data"
   ]
  },
  {
   "cell_type": "code",
   "execution_count": 10,
   "id": "bcc70860",
   "metadata": {},
   "outputs": [
    {
     "name": "stdout",
     "output_type": "stream",
     "text": [
      "Invest in training of employees blue\n",
      "Invest in water recycling blue\n"
     ]
    }
   ],
   "source": [
    "# Initialize a directed graph\n",
    "G = nx.DiGraph()\n",
    "\n",
    "input_dict = case.input_dict\n",
    "\n",
    "# Iterate through the rows of the DataFrame to add nodes and edges\n",
    "for index, row in data.iterrows():\n",
    "    destination = row['destination']\n",
    "    argument_1 = row['argument_1']\n",
    "    argument_2 = row['argument_2']\n",
    "    operator = row['operator']\n",
    "    \n",
    "    # Add nodes for destination, argument_1, and argument_2\n",
    "    G.add_node(destination, color = category_color(destination))\n",
    "    \n",
    "    # Add an edge from argument_1 to destination with the operator as the label\n",
    "    if pd.isnull(argument_1):\n",
    "        print(argument_2, category_color(argument_2))\n",
    "        G.add_node(argument_2, color = category_color(argument_2))\n",
    "        G.add_edge(argument_2, destination, label=operator, color='black')\n",
    "    elif pd.isnull(argument_2):\n",
    "        print(argument_1, category_color(argument_1))\n",
    "        G.add_node(argument_1, color = category_color(argument_1))\n",
    "        G.add_edge(argument_1, destination, label=operator, color='black')\n",
    "    else:\n",
    "        G.add_node(argument_1, color = category_color(argument_1))\n",
    "        G.add_node(argument_2, color = category_color(argument_2))\n",
    "        G.add_edge(argument_1, argument_2, label=operator, color='black')\n",
    "        # Later make function so that based on category, we make the edge to destination\n",
    "        G.add_edge(argument_2, destination, label='=', color='black')\n",
    " "
   ]
  },
  {
   "cell_type": "code",
   "execution_count": 11,
   "id": "6b981358",
   "metadata": {},
   "outputs": [
    {
     "name": "stdout",
     "output_type": "stream",
     "text": [
      "example.html\n"
     ]
    },
    {
     "data": {
      "text/html": [
       "\n",
       "        <iframe\n",
       "            width=\"100%\"\n",
       "            height=\"600px\"\n",
       "            src=\"example.html\"\n",
       "            frameborder=\"0\"\n",
       "            allowfullscreen\n",
       "            \n",
       "        ></iframe>\n",
       "        "
      ],
      "text/plain": [
       "<IPython.lib.display.IFrame at 0x1fbeecc63d0>"
      ]
     },
     "execution_count": 11,
     "metadata": {},
     "output_type": "execute_result"
    }
   ],
   "source": [
    "       \n",
    "# Define the layout for the graph (you can use different layouts)\n",
    "pos = nx.spring_layout(G, seed=42)\n",
    "\n",
    "net = Network(notebook=True, cdn_resources='remote')\n",
    "net.from_nx(G)\n",
    "net.show_buttons()\n",
    "net.show(\"example.html\")"
   ]
  }
 ],
 "metadata": {
  "kernelspec": {
   "display_name": "Python 3 (ipykernel)",
   "language": "python",
   "name": "python3"
  },
  "language_info": {
   "codemirror_mode": {
    "name": "ipython",
    "version": 3
   },
   "file_extension": ".py",
   "mimetype": "text/x-python",
   "name": "python",
   "nbconvert_exporter": "python",
   "pygments_lexer": "ipython3",
   "version": "3.9.17"
  }
 },
 "nbformat": 4,
 "nbformat_minor": 5
}
