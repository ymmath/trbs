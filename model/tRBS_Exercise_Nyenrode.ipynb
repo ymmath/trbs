{
 "cells": [
  {
   "cell_type": "markdown",
   "metadata": {},
   "source": [
    "# Exercise: Data Science for Responsible Decision Making\n"
   ]
  },
  {
   "cell_type": "markdown",
   "metadata": {},
   "source": [
    "## Introduction\n",
    "\n",
    "Please refer to the instructions provided in the exercise description (.pptx file) as the source of truth. You may this notebook as a guide to attempt the exercises in a Jupyter Notebook format using the tRBS open-source code package."
   ]
  },
  {
   "cell_type": "markdown",
   "metadata": {},
   "source": [
    "### Summarized instructions:  \n",
    " 1. **Start with the assignment description:** Carefully read the exercise description instructions (in the .pptx file).  <br><br>\n",
    "2. **Prepare the template:** Follow the instructions in the exercise description (Slide 13). To help you get started, we have prepared a starter template for you under **StarterTemplate.xlsx**.  \n",
    "\t   i. Fill in the missing fields in the sheets `key_outputs`, `decision_makers_options` and `theme_weights`.   <br><br>\n",
    " 3. **Save the file:** After you have prepared the template, save it in **data/StarterTemplate/xlsx/**.  <br><br>\n",
    " 4. **Run through the notebook** and note your observations.  <br><br>\n",
    "\n",
    "----\n",
    "**After** you have run through the notebook once:\n",
    "\n",
    " 5. **Make your changes** in the **theme weights** (for the economic growth theme) in the template as per the instructions (slide 13), re-run the notebook and note the differences in your results.  <br><br>\n",
    " 6. **Add the relationship** (see slide 14) between the investment in clean drinking water and the return on investment (in `scenarios`) and the income increase for low income families (in `fixed_inputs`) along with their respective dependencies (in `dependencies`) and **re-run through the notebook**.  <br><br>\n",
    " 7. **Change the weights** (see slide 15) in `scenario_weights`, `theme_weights` or `key_output_weights` as per your preferences and re-run the analyses and note the differences in your results.\n"
   ]
  },
  {
   "cell_type": "markdown",
   "metadata": {},
   "source": [
    "### (Ideas for extra data science)\n",
    "- Change the weights from within the python code\n",
    "- Fix the constraint with the DMO in the code\n",
    "- Some error (DONT PANIC)"
   ]
  },
  {
   "cell_type": "markdown",
   "metadata": {},
   "source": [
    "  \n",
    "### `TheResponsibleBusinessSimulator` class  \n",
    "In order to work with the Responsible Business Simulator model, we will work with the ```TheResponsibleBusinessSimulator``` class. This class can be found in **core/trbs.py**. This class takes three input values: (i) the folder where data of the case can be found, (ii) the format of the data (options: xlsx, json, csv) and (iii) the name of the case.\n",
    "\n",
    "\n",
    "\n"
   ]
  },
  {
   "cell_type": "code",
   "execution_count": 6,
   "metadata": {
    "ExecuteTime": {
     "end_time": "2023-10-16T12:25:46.440969900Z",
     "start_time": "2023-10-16T12:25:40.958263600Z"
    }
   },
   "outputs": [],
   "source": [
    "from pathlib import Path\n",
    "from core.trbs import TheResponsibleBusinessSimulator\n",
    "\n",
    "# Specify your case and format. \n",
    "path = Path.cwd() / 'data'\n",
    "file_format = 'xlsx'\n",
    "name = 'StarterTemplate'\n",
    "\n",
    "case = TheResponsibleBusinessSimulator(path, file_format, name)"
   ]
  },
  {
   "cell_type": "markdown",
   "metadata": {},
   "source": [
    "Let's see how ```case``` looks currently:"
   ]
  },
  {
   "cell_type": "code",
   "execution_count": 7,
   "metadata": {
    "ExecuteTime": {
     "end_time": "2023-09-12T07:47:47.224725800Z",
     "start_time": "2023-09-12T07:47:47.209360400Z"
    }
   },
   "outputs": [
    {
     "name": "stdout",
     "output_type": "stream",
     "text": [
      "Case: StarterTemplate (xlsx) \n",
      "Data location: C:\\Users\\ymathradas001\\PycharmProjects\\pythonProject2\\trbs\\model\\data \n",
      "Input data: \n",
      " First .build() a case to import data\n"
     ]
    }
   ],
   "source": [
    "print(case)"
   ]
  },
  {
   "cell_type": "markdown",
   "metadata": {
    "pycharm": {
     "name": "#%% md\n"
    }
   },
   "source": [
    "Currently, it is rather empty. To get the input data, we will first need to ```build``` our case."
   ]
  },
  {
   "cell_type": "code",
   "execution_count": 9,
   "metadata": {
    "ExecuteTime": {
     "end_time": "2023-09-01T11:43:20.603306Z",
     "start_time": "2023-09-01T11:43:19.196580300Z"
    },
    "pycharm": {
     "name": "#%%\n"
    }
   },
   "outputs": [
    {
     "name": "stdout",
     "output_type": "stream",
     "text": [
      "Creating 'StarterTemplate'\n",
      "Hierarchy calculated in 4 iterations\n",
      "Case: StarterTemplate (xlsx) \n",
      "Data location: C:\\Users\\ymathradas001\\PycharmProjects\\pythonProject2\\trbs\\model\\data \n",
      "Input data: \n",
      " configurations\n",
      "\t['use_theme_weights']\n",
      "\n",
      "configuration_value\n",
      "\t[1]\n",
      "\n",
      "key_outputs\n",
      "\t['Return on investment' 'Decrease in biodiversity\\xa0' 'CO2 emission'\n",
      " 'Income growth for low-income families']\n",
      "\n",
      "key_output_theme\n",
      "\t['Economic growth' 'Sustainable consumption and production'\n",
      " 'Climate change' nan]\n",
      "\n",
      "key_output_monetary\n",
      "\t[0 0 0 0]\n",
      "\n",
      "key_output_smaller_the_better\n",
      "\t[0 1 1 0]\n",
      "\n",
      "key_output_linear\n",
      "\t[1 1 1 1]\n",
      "\n",
      "key_output_automatic\n",
      "\t[1 1 1 1]\n",
      "\n",
      "key_output_start\n",
      "\t[nan nan nan nan]\n",
      "\n",
      "key_output_end\n",
      "\t[nan nan nan nan]\n",
      "\n",
      "key_output_threshold\n",
      "\t[nan nan nan nan]\n",
      "\n",
      "decision_makers_options\n",
      "\t['Equal spread' 'Focus on clean drinking water' 'Focus on cryptocurrency'\n",
      " 'Focus on pig farms' 'Focus on wind turbines']\n",
      "\n",
      "internal_variable_inputs\n",
      "\t['Investment in clean drinking water' 'Investment in cryptocurrency'\n",
      " 'Investment in pig Farms' 'Investment in wind turbines']\n",
      "\n",
      "decision_makers_option_value\n",
      "\t[[250000. 250000. 250000. 250000.]\n",
      " [550000. 150000. 150000. 150000.]\n",
      " [    nan     nan     nan     nan]\n",
      " [150000. 150000. 550000. 150000.]\n",
      " [150000. 150000. 150000. 550000.]]\n",
      "\n",
      "scenarios\n",
      "\t['Base case' 'Optimistic' 'Pessimistic']\n",
      "\n",
      "external_variable_inputs\n",
      "\t['% return on clean water investment'\n",
      " '% return on cryptocurrency investment' '% return on pig farm investment'\n",
      " '% return on wind turbine investment']\n",
      "\n",
      "scenario_value\n",
      "\t[[    nan  1.      0.2     1.356 ]\n",
      " [    nan  5.      2.5    10.456 ]\n",
      " [    nan -9.      0.05    0.0256]]\n",
      "\n",
      "fixed_inputs\n",
      "\t['Price of wind turbine' 'MW per windturbine'\n",
      " 'Diminishing open nature per wind turbine'\n",
      " 'Diminishing number of bats per MW' 'CO2 emission per kWh'\n",
      " 'Price of cryptocurrency' 'Emission per cryptocurrency '\n",
      " 'Temperature change per MtCO2 emission'\n",
      " '% Decrease in biodiversity per degree Celsius increase' 'Price per pig'\n",
      " 'Number of kilos per pig' 'Area per kg pig' 'CO2 emission per kg pig'\n",
      " 'Price per pig farm' 'Salary increase per pig farm'\n",
      " 'Price per liter of produced drinking water'\n",
      " 'Emissions per liter of clean drinking water produced'\n",
      " '% Decrease in biodiversity per square feet '\n",
      " '% Decrease in biodiversity per bat ' 'Annual kWh per MW'\n",
      " 'Average Salary' '% Increase in wage due to wind farm investment per MW']\n",
      "\n",
      "fixed_input_value\n",
      "\t[3.50000e+06 2.00000e+00 1.32396e+05 6.00000e+00 0.00000e+00 1.00000e+04\n",
      " 1.10000e+04 1.50000e-09 1.00000e-01 4.28000e+02 1.30000e+02 9.40000e+00\n",
      " 3.00000e-02 1.02720e+06 3.00000e+04 1.10000e-03 2.38000e-03 2.00000e-03\n",
      " 5.00000e-04 2.19000e+06 4.00000e+04 0.00000e+00]\n",
      "\n",
      "destination\n",
      "\t['Return on investment' 'Return on investment' 'Return on investment'\n",
      " 'Liters of drinking water produced' 'Number of pig farms'\n",
      " 'Number of cryptocurrencies' 'Number of pigs' 'Number of wind turbines'\n",
      " 'Less Open Nature' 'Amount of kilos pig'\n",
      " 'Income growth for low-income families' 'CO2 emission tmp 1'\n",
      " 'CO2 emission tmp 2' 'Number of MW'\n",
      " 'degree Celsius temperature increase tmp 1' '% Wage Increase '\n",
      " 'Decrease in biodiversity\\xa0' 'Less Wildlife (less bats)'\n",
      " 'Number of decreased area' 'CO2 emission' 'Number of kWh per year'\n",
      " 'degree Celsius temperature increase tmp 2'\n",
      " 'Decrease in biodiversity\\xa0' 'CO2 emission'\n",
      " 'Decrease in biodiversity\\xa0' 'Decrease in biodiversity\\xa0'\n",
      " 'Decrease in biodiversity\\xa0' 'Income growth for low-income families'\n",
      " 'CO2 emission']\n",
      "\n",
      "argument_1\n",
      "\t['Investment in wind turbines' 'Investment in cryptocurrency'\n",
      " 'Investment in pig Farms' 'Investment in clean drinking water'\n",
      " 'Investment in pig Farms' 'Investment in cryptocurrency'\n",
      " 'Investment in pig Farms' 'Investment in wind turbines'\n",
      " 'Number of wind turbines' 'Number of pigs' 'Number of pig farms'\n",
      " 'Number of cryptocurrencies' 'Liters of drinking water produced'\n",
      " 'Number of wind turbines' 'CO2 emission tmp 1' 'Number of MW'\n",
      " 'Less Open Nature' 'Number of MW' 'Amount of kilos pig'\n",
      " 'Amount of kilos pig' 'Number of MW' 'CO2 emission tmp 2'\n",
      " 'degree Celsius temperature increase tmp 1' 'Number of kWh per year'\n",
      " 'Number of decreased area' 'Less Wildlife (less bats)'\n",
      " 'degree Celsius temperature increase tmp 2' '% Wage Increase '\n",
      " 'CO2 emission tmp 2']\n",
      "\n",
      "argument_2\n",
      "\t['% return on wind turbine investment'\n",
      " '% return on cryptocurrency investment' '% return on pig farm investment'\n",
      " 'Price per liter of produced drinking water' 'Price per pig farm'\n",
      " 'Price of cryptocurrency' 'Price per pig' 'Price of wind turbine'\n",
      " 'Diminishing open nature per wind turbine' 'Number of kilos per pig'\n",
      " 'Salary increase per pig farm' 'Emission per cryptocurrency '\n",
      " 'Emissions per liter of clean drinking water produced'\n",
      " 'MW per windturbine' 'Temperature change per MtCO2 emission'\n",
      " '% Increase in wage due to wind farm investment per MW'\n",
      " '% Decrease in biodiversity per square feet '\n",
      " 'Diminishing number of bats per MW' 'Area per kg pig'\n",
      " 'CO2 emission per kg pig' 'Annual kWh per MW'\n",
      " 'Temperature change per MtCO2 emission'\n",
      " '% Decrease in biodiversity per degree Celsius increase'\n",
      " 'CO2 emission per kWh' '% Decrease in biodiversity per square feet '\n",
      " '% Decrease in biodiversity per bat '\n",
      " '% Decrease in biodiversity per degree Celsius increase' 'Average Salary'\n",
      " 'CO2 emission tmp 1']\n",
      "\n",
      "operator\n",
      "\t['*' '*' '*' '/' '/' '/' '/' '/' '*' '*' '*' '*' '*' '*' '*' '*' '*' '*'\n",
      " '*' '*' '*' '*' '*' '*' '*' '*' '*' '*' '+']\n",
      "\n",
      "maximum_effect\n",
      "\t[nan nan nan nan nan nan nan nan nan nan nan nan nan nan nan nan nan nan\n",
      " nan nan nan nan nan nan nan nan nan nan nan]\n",
      "\n",
      "accessibility\n",
      "\t[nan nan nan nan nan nan nan nan nan nan nan nan nan nan nan nan nan nan\n",
      " nan nan nan nan nan nan nan nan nan nan nan]\n",
      "\n",
      "probability_of_success\n",
      "\t[nan nan nan nan nan nan nan nan nan nan nan nan nan nan nan nan nan nan\n",
      " nan nan nan nan nan nan nan nan nan nan nan]\n",
      "\n",
      "saturation_point\n",
      "\t[nan nan nan nan nan nan nan nan nan nan nan nan nan nan nan nan nan nan\n",
      " nan nan nan nan nan nan nan nan nan nan nan]\n",
      "\n",
      "hierarchy\n",
      "\t[1 1 1 1 1 1 1 1 2 2 2 2 2 2 3 3 3 3 3 3 3 3 4 4 4 4 4 4 4]\n",
      "\n",
      "dependencies_order\n",
      "\t[ 0  1  2  3 25  6 11  9 17 12 28  7  4 10  8 26 21 18 19 16 13  5 20 15\n",
      " 22 23 24 27 14]\n",
      "\n",
      "themes\n",
      "\t['Economic growth' 'Sustainable consumption and production'\n",
      " 'Climate change']\n",
      "\n",
      "theme_weight\n",
      "\t[1 1 1]\n",
      "\n",
      "key_output_weight\n",
      "\t[1 1 1 1]\n",
      "\n",
      "scenario_weight\n",
      "\t[1 1 1]\n"
     ]
    }
   ],
   "source": [
    "case.build()\n",
    "print(case)"
   ]
  },
  {
   "cell_type": "markdown",
   "metadata": {},
   "source": [
    "### (Optional) Change the parameters from this notebook (instead of the Excel template)\n",
    "- Fill in the missing fields in the `key_outputs`, `decision_maker_options` and the `theme_weights`.\n",
    "- All the input parameters are stored in the `dict` object `case.input_dict` created when the case was built.\n",
    "- Hint: You can access the `key_outputs` through `case.input_dict['key_outputs']`"
   ]
  },
  {
   "cell_type": "code",
   "execution_count": 78,
   "metadata": {},
   "outputs": [
    {
     "data": {
      "text/plain": [
       "array([[250000.]])"
      ]
     },
     "execution_count": 78,
     "metadata": {},
     "output_type": "execute_result"
    }
   ],
   "source": [
    "index1 = np.where(case.input_dict['decision_makers_options'] == 'Equal spread')\n",
    "index2 = np.where(case.input_dict['internal_variable_inputs'] == 'Investment in clean drinking water')\n",
    "case.input_dict['decision_makers_option_value'][index1, index2]"
   ]
  },
  {
   "cell_type": "code",
   "execution_count": 61,
   "metadata": {},
   "outputs": [],
   "source": [
    "import numpy as np\n",
    "def setParameterValue(sheet_name, first_param, second_param, value):\n",
    "    if sheet_name == 'key_outputs':\n",
    "        index = np.where(case.input_dict[sheet_name] == first_param)\n",
    "        case.input_dict[\"_\".join([sheet_name[:-1], second_param])][index] = value\n",
    "        \n",
    "    if sheet_name == 'decision_makers_options':\n",
    "        index1 = np.where(case.input_dict[sheet_name] == first_param)\n",
    "        index2 = np.where(case.input_dict['internal_variable_inputs'] == second_param)\n",
    "        case.input_dict['decision_makers_option_value'][index1, index2] = value"
   ]
  },
  {
   "cell_type": "code",
   "execution_count": 79,
   "metadata": {},
   "outputs": [],
   "source": [
    "setParameterValue('key_outputs', 'Income growth for low-income families', 'theme', 'Reduced Inequality')\n",
    "setParameterValue('decision_makers_options', 'Focus on cryptocurrency', 'Investment in cryptocurrency', 550000)"
   ]
  },
  {
   "cell_type": "code",
   "execution_count": 80,
   "metadata": {},
   "outputs": [
    {
     "data": {
      "text/plain": [
       "{'configurations': array(['use_theme_weights'], dtype=object),\n",
       " 'configuration_value': array([1], dtype=int64),\n",
       " 'key_outputs': array(['Return on investment', 'Decrease in biodiversity\\xa0',\n",
       "        'CO2 emission', 'Income growth for low-income families'],\n",
       "       dtype=object),\n",
       " 'key_output_theme': array(['Economic growth', 'Sustainable consumption and production',\n",
       "        'Climate change', 'Reduced Inequality'], dtype=object),\n",
       " 'key_output_monetary': array([0, 0, 0, 0], dtype=int64),\n",
       " 'key_output_smaller_the_better': array([0, 1, 1, 0], dtype=int64),\n",
       " 'key_output_linear': array([1, 1, 1, 1], dtype=int64),\n",
       " 'key_output_automatic': array([1, 1, 1, 1], dtype=int64),\n",
       " 'key_output_start': array([nan, nan, nan, nan]),\n",
       " 'key_output_end': array([nan, nan, nan, nan]),\n",
       " 'key_output_threshold': array([nan, nan, nan, nan]),\n",
       " 'decision_makers_options': array(['Equal spread', 'Focus on clean drinking water',\n",
       "        'Focus on cryptocurrency', 'Focus on pig farms',\n",
       "        'Focus on wind turbines'], dtype=object),\n",
       " 'internal_variable_inputs': array(['Investment in clean drinking water',\n",
       "        'Investment in cryptocurrency', 'Investment in pig Farms',\n",
       "        'Investment in wind turbines'], dtype=object),\n",
       " 'decision_makers_option_value': array([[250000., 250000., 250000., 250000.],\n",
       "        [550000., 150000., 150000., 150000.],\n",
       "        [    nan,     nan,     nan,     nan],\n",
       "        [150000., 150000., 550000., 150000.],\n",
       "        [150000., 150000., 150000., 550000.]]),\n",
       " 'scenarios': array(['Base case', 'Optimistic', 'Pessimistic'], dtype=object),\n",
       " 'external_variable_inputs': array(['% return on clean water investment',\n",
       "        '% return on cryptocurrency investment',\n",
       "        '% return on pig farm investment',\n",
       "        '% return on wind turbine investment'], dtype=object),\n",
       " 'scenario_value': array([[    nan,  1.    ,  0.2   ,  1.356 ],\n",
       "        [    nan,  5.    ,  2.5   , 10.456 ],\n",
       "        [    nan, -9.    ,  0.05  ,  0.0256]]),\n",
       " 'fixed_inputs': array(['Price of wind turbine', 'MW per windturbine',\n",
       "        'Diminishing open nature per wind turbine',\n",
       "        'Diminishing number of bats per MW', 'CO2 emission per kWh',\n",
       "        'Price of cryptocurrency', 'Emission per cryptocurrency ',\n",
       "        'Temperature change per MtCO2 emission',\n",
       "        '% Decrease in biodiversity per degree Celsius increase',\n",
       "        'Price per pig', 'Number of kilos per pig', 'Area per kg pig',\n",
       "        'CO2 emission per kg pig', 'Price per pig farm',\n",
       "        'Salary increase per pig farm',\n",
       "        'Price per liter of produced drinking water',\n",
       "        'Emissions per liter of clean drinking water produced',\n",
       "        '% Decrease in biodiversity per square feet ',\n",
       "        '% Decrease in biodiversity per bat ', 'Annual kWh per MW',\n",
       "        'Average Salary',\n",
       "        '% Increase in wage due to wind farm investment per MW'],\n",
       "       dtype=object),\n",
       " 'fixed_input_value': array([3.50000e+06, 2.00000e+00, 1.32396e+05, 6.00000e+00, 0.00000e+00,\n",
       "        1.00000e+04, 1.10000e+04, 1.50000e-09, 1.00000e-01, 4.28000e+02,\n",
       "        1.30000e+02, 9.40000e+00, 3.00000e-02, 1.02720e+06, 3.00000e+04,\n",
       "        1.10000e-03, 2.38000e-03, 2.00000e-03, 5.00000e-04, 2.19000e+06,\n",
       "        4.00000e+04, 0.00000e+00]),\n",
       " 'destination': array(['Return on investment', 'Return on investment',\n",
       "        'Return on investment', 'Liters of drinking water produced',\n",
       "        'Number of pig farms', 'Number of cryptocurrencies',\n",
       "        'Number of pigs', 'Number of wind turbines', 'Less Open Nature',\n",
       "        'Amount of kilos pig', 'Income growth for low-income families',\n",
       "        'CO2 emission tmp 1', 'CO2 emission tmp 2', 'Number of MW',\n",
       "        'degree Celsius temperature increase tmp 1', '% Wage Increase ',\n",
       "        'Decrease in biodiversity\\xa0', 'Less Wildlife (less bats)',\n",
       "        'Number of decreased area', 'CO2 emission',\n",
       "        'Number of kWh per year',\n",
       "        'degree Celsius temperature increase tmp 2',\n",
       "        'Decrease in biodiversity\\xa0', 'CO2 emission',\n",
       "        'Decrease in biodiversity\\xa0', 'Decrease in biodiversity\\xa0',\n",
       "        'Decrease in biodiversity\\xa0',\n",
       "        'Income growth for low-income families', 'CO2 emission'],\n",
       "       dtype=object),\n",
       " 'argument_1': array(['Investment in wind turbines', 'Investment in cryptocurrency',\n",
       "        'Investment in pig Farms', 'Investment in clean drinking water',\n",
       "        'Investment in pig Farms', 'Investment in cryptocurrency',\n",
       "        'Investment in pig Farms', 'Investment in wind turbines',\n",
       "        'Number of wind turbines', 'Number of pigs', 'Number of pig farms',\n",
       "        'Number of cryptocurrencies', 'Liters of drinking water produced',\n",
       "        'Number of wind turbines', 'CO2 emission tmp 1', 'Number of MW',\n",
       "        'Less Open Nature', 'Number of MW', 'Amount of kilos pig',\n",
       "        'Amount of kilos pig', 'Number of MW', 'CO2 emission tmp 2',\n",
       "        'degree Celsius temperature increase tmp 1',\n",
       "        'Number of kWh per year', 'Number of decreased area',\n",
       "        'Less Wildlife (less bats)',\n",
       "        'degree Celsius temperature increase tmp 2', '% Wage Increase ',\n",
       "        'CO2 emission tmp 2'], dtype=object),\n",
       " 'argument_2': array(['% return on wind turbine investment',\n",
       "        '% return on cryptocurrency investment',\n",
       "        '% return on pig farm investment',\n",
       "        'Price per liter of produced drinking water', 'Price per pig farm',\n",
       "        'Price of cryptocurrency', 'Price per pig',\n",
       "        'Price of wind turbine',\n",
       "        'Diminishing open nature per wind turbine',\n",
       "        'Number of kilos per pig', 'Salary increase per pig farm',\n",
       "        'Emission per cryptocurrency ',\n",
       "        'Emissions per liter of clean drinking water produced',\n",
       "        'MW per windturbine', 'Temperature change per MtCO2 emission',\n",
       "        '% Increase in wage due to wind farm investment per MW',\n",
       "        '% Decrease in biodiversity per square feet ',\n",
       "        'Diminishing number of bats per MW', 'Area per kg pig',\n",
       "        'CO2 emission per kg pig', 'Annual kWh per MW',\n",
       "        'Temperature change per MtCO2 emission',\n",
       "        '% Decrease in biodiversity per degree Celsius increase',\n",
       "        'CO2 emission per kWh',\n",
       "        '% Decrease in biodiversity per square feet ',\n",
       "        '% Decrease in biodiversity per bat ',\n",
       "        '% Decrease in biodiversity per degree Celsius increase',\n",
       "        'Average Salary', 'CO2 emission tmp 1'], dtype=object),\n",
       " 'operator': array(['*', '*', '*', '/', '/', '/', '/', '/', '*', '*', '*', '*', '*',\n",
       "        '*', '*', '*', '*', '*', '*', '*', '*', '*', '*', '*', '*', '*',\n",
       "        '*', '*', '+'], dtype=object),\n",
       " 'maximum_effect': array([nan, nan, nan, nan, nan, nan, nan, nan, nan, nan, nan, nan, nan,\n",
       "        nan, nan, nan, nan, nan, nan, nan, nan, nan, nan, nan, nan, nan,\n",
       "        nan, nan, nan]),\n",
       " 'accessibility': array([nan, nan, nan, nan, nan, nan, nan, nan, nan, nan, nan, nan, nan,\n",
       "        nan, nan, nan, nan, nan, nan, nan, nan, nan, nan, nan, nan, nan,\n",
       "        nan, nan, nan]),\n",
       " 'probability_of_success': array([nan, nan, nan, nan, nan, nan, nan, nan, nan, nan, nan, nan, nan,\n",
       "        nan, nan, nan, nan, nan, nan, nan, nan, nan, nan, nan, nan, nan,\n",
       "        nan, nan, nan]),\n",
       " 'saturation_point': array([nan, nan, nan, nan, nan, nan, nan, nan, nan, nan, nan, nan, nan,\n",
       "        nan, nan, nan, nan, nan, nan, nan, nan, nan, nan, nan, nan, nan,\n",
       "        nan, nan, nan]),\n",
       " 'hierarchy': array([1, 1, 1, 1, 1, 1, 1, 1, 2, 2, 2, 2, 2, 2, 3, 3, 3, 3, 3, 3, 3, 3,\n",
       "        4, 4, 4, 4, 4, 4, 4], dtype=int64),\n",
       " 'dependencies_order': array([ 0,  1,  2,  3, 25,  6, 11,  9, 17, 12, 28,  7,  4, 10,  8, 26, 21,\n",
       "        18, 19, 16, 13,  5, 20, 15, 22, 23, 24, 27, 14], dtype=int64),\n",
       " 'themes': array(['Economic growth', 'Sustainable consumption and production',\n",
       "        'Climate change'], dtype=object),\n",
       " 'theme_weight': array([1, 1, 1], dtype=int64),\n",
       " 'key_output_weight': array([1, 1, 1, 1], dtype=int64),\n",
       " 'scenario_weight': array([1, 1, 1], dtype=int64)}"
      ]
     },
     "execution_count": 80,
     "metadata": {},
     "output_type": "execute_result"
    }
   ],
   "source": [
    "case.input_dict"
   ]
  },
  {
   "cell_type": "markdown",
   "metadata": {},
   "source": [
    "### Calculate key output values\n",
    "\n",
    "Now that we have a decent set-up of our case, we can `evaluate` it. Cases are evaluated using the following iterative four-step process.\n",
    "\n",
    "1. `evaluate_single_dependency` is the smallest calculation step. It takes both arguments from a **single dependency row** and applies the provided operator. This is calculated for a fixed decision makers option (dmo) and fixed scenario. <br>\n",
    "_e.g. this function will calculate 'Effect of training' as 'Investment' / 'Effectiveness'. The fixed decision makers option and fixed scenario is used (when needed) to find the correct values for the internal variable ('Investment') and external variable ('Effectivess')._\n",
    "<br>\n",
    "\n",
    "2. `evaluate_all_dependencies` calculates all singular calculated dependencies to evaluate the full outcome for a case for a fixed decision makers option and fixed scenario. <br>\n",
    "_e.g. this function will calculate the values of the key outputs for the 'Base case' with a 'Focus on clean drinking water'._\n",
    "<br>\n",
    "\n",
    "3. `evaluate_selected_scenario` calculates all full outcomes for a case for **all decision makers options** and single given scenario. <br>\n",
    "_e.g. this function will calculate a set of values of the key outputs for the 'Base case' for each option that is available to the decision makers, that is, one set for 'Focus on water recycling', one set for 'Focus on training' and one set for 'Equal spread'._\n",
    "<br>\n",
    "\n",
    "4. `evaluate_all_scenarios` calculates all sets of key output values for **all decision makers options** and **all scenarios**. \n",
    "\n",
    "The process is iterative. So, when calling `evaluate` step 4 is called that will call the other functions. This process is visualised below:"
   ]
  },
  {
   "cell_type": "markdown",
   "metadata": {},
   "source": [
    "![Process Visual](images/process_visual.png)"
   ]
  },
  {
   "cell_type": "code",
   "execution_count": 45,
   "metadata": {
    "ExecuteTime": {
     "end_time": "2023-09-01T11:43:20.614842400Z",
     "start_time": "2023-09-01T11:43:20.602779400Z"
    },
    "pycharm": {
     "name": "#%%\n"
    }
   },
   "outputs": [
    {
     "name": "stdout",
     "output_type": "stream",
     "text": [
      "- Evaluated 'Base case' successfully for all decision makers options!\n",
      "- Evaluated 'Optimistic' successfully for all decision makers options!\n",
      "- Evaluated 'Pessimistic' successfully for all decision makers options!\n"
     ]
    }
   ],
   "source": [
    "case.evaluate()"
   ]
  },
  {
   "cell_type": "markdown",
   "metadata": {},
   "source": [
    "The `evaluate` function creates an output dictionary (`output_dict`) for our `case`. This dictionary contains all the results of our case and is structured as a nested dictionary with the following structure: \n",
    "\n",
    "{'Scenario A': <br>\n",
    "   { <br>\n",
    "    'Decision Makers Option I': <br>\n",
    "        {<br>\n",
    "        'key_outputs': {'Key Output X': value, ..}<br>\n",
    "        }<br>\n",
    "    'Decision Makers Option II': {..}<br>\n",
    "    }<br>\n",
    "'Scenario B': {..}<br>\n",
    "}"
   ]
  },
  {
   "cell_type": "code",
   "execution_count": 46,
   "metadata": {
    "ExecuteTime": {
     "end_time": "2023-09-01T11:43:20.693063600Z",
     "start_time": "2023-09-01T11:43:20.614842400Z"
    }
   },
   "outputs": [
    {
     "data": {
      "text/plain": [
       "{'Equal spread': {'key_outputs': {'Return on investment': 639000.0,\n",
       "   'Decrease in biodiversity\\xa0': 1446.4843587014504,\n",
       "   'CO2 emission': 818187.1282922685,\n",
       "   'Income growth for low-income families': 7301.401869158879}},\n",
       " 'Focus on clean drinking water': {'key_outputs': {'Return on investment': 383400.0,\n",
       "   'Decrease in biodiversity\\xa0': 867.8907450390521,\n",
       "   'CO2 emission': 1356366.8224299066,\n",
       "   'Income growth for low-income families': 4380.841121495328}},\n",
       " 'Focus on cryptocurrency': {'key_outputs': {'Return on investment': 783400.0,\n",
       "   'Decrease in biodiversity\\xa0': 867.8906812208703,\n",
       "   'CO2 emission': 930912.2769753612,\n",
       "   'Income growth for low-income families': 4380.841121495328}},\n",
       " 'Focus on pig farms': {'key_outputs': {'Return on investment': 463400.0,\n",
       "   'Decrease in biodiversity\\xa0': 3152.0027647535812,\n",
       "   'CO2 emission': 494557.1367884452,\n",
       "   'Income growth for low-income families': 16063.084112149532}},\n",
       " 'Focus on wind turbines': {'key_outputs': {'Return on investment': 925800.0,\n",
       "   'Decrease in biodiversity\\xa0': 898.1532437922989,\n",
       "   'CO2 emission': 490912.27697536105,\n",
       "   'Income growth for low-income families': 4380.841121495328}}}"
      ]
     },
     "execution_count": 46,
     "metadata": {},
     "output_type": "execute_result"
    }
   ],
   "source": [
    "case.output_dict['Base case']"
   ]
  },
  {
   "cell_type": "markdown",
   "metadata": {},
   "source": [
    "### Process key output values\n",
    "Now that we have evaluated the dependencies, we can start to compare the key outputs. In order to do this we `appreciate` the key output values in our case. A five-step approach is introduced when appreciating the outputs:\n",
    "1. `appreciate_single_key_output` transforms a key output value into an **appreciated value**. This is done by a (non)-linear appreciation based on the minimum and maximum values of that specific key output throughout the case (so based on values of key outputs in all scenarios and decision makers options). For each (scenario, decision makers option) combination\n",
    "<br>\n",
    "\n",
    "2. `apply_weights` applies theme and key output weights to the calculated appreciations under Step 1. These weights are model inputs determined based on strategic priorities. This function gives us a set of **weighted appreciations** of the key outputs for each (scenario, decision makers option) combination. \n",
    "<br>\n",
    "\n",
    "3. (**NOT YET IMPLEMENTED**) `decision_makers_option_appreciations` aggregates the weighted appreciations of key outputs into a single **aggregated appreciation** per decision makers option and scenario.\n",
    "<br>\n",
    "\n",
    "4. (**NOT YET IMPLEMENTED**) `apply_scenario_weights` applies scenario weights to the calculated appreciation under Step 3. This function gives us a value of **scenario weighted appreciations** for each decision makers option and scenario.\n",
    "<br>\n",
    "\n",
    "5. (**NOT YET IMPLEMENTED**) `scenario_appreciations` aggregates the scenario weighted appreciations into a single value for each decision makers option."
   ]
  },
  {
   "cell_type": "code",
   "execution_count": 47,
   "metadata": {
    "ExecuteTime": {
     "end_time": "2023-09-01T11:43:20.693063600Z",
     "start_time": "2023-09-01T11:43:20.629961900Z"
    }
   },
   "outputs": [
    {
     "name": "stdout",
     "output_type": "stream",
     "text": [
      "Key output values have been processed | Appreciated, weighted & aggregated\n"
     ]
    }
   ],
   "source": [
    "case.appreciate()"
   ]
  },
  {
   "cell_type": "markdown",
   "metadata": {},
   "source": [
    "The `appreciate` function extends our existing output dictionary with information about the appreciation & weighted appreciation. The extended structure looks as follows:\n",
    "\n",
    "{'Scenario A': <br>\n",
    "   { <br>\n",
    "    'Decision Makers Option I': <br>\n",
    "        {<br>\n",
    "        'key_outputs': {'Key Output X': value, ..}<br>\n",
    "        **'appreciations': {'Key Output X': value, ..}<br>\n",
    "        'weighted_appreciations': {'Key Output X': value, ..}**<br>\n",
    "        }<br>\n",
    "    'Decision Makers Option II': {..}<br>\n",
    "    }<br>\n",
    "'Scenario B': {..}<br>\n",
    "}"
   ]
  },
  {
   "cell_type": "code",
   "execution_count": 48,
   "metadata": {
    "ExecuteTime": {
     "end_time": "2023-09-01T11:43:20.693063600Z",
     "start_time": "2023-09-01T11:43:20.650864300Z"
    },
    "scrolled": true
   },
   "outputs": [
    {
     "data": {
      "text/plain": [
       "{'Equal spread': {'key_outputs': {'Return on investment': -2231100.0,\n",
       "   'Decrease in biodiversity\\xa0': 1446.4843587014504,\n",
       "   'CO2 emission': 818187.1282922685,\n",
       "   'Income growth for low-income families': 7301.401869158879},\n",
       "  'appreciations': {'Return on investment': 22.917340276237763,\n",
       "   'Decrease in biodiversity\\xa0': 74.66877034397974,\n",
       "   'CO2 emission': 62.184628524306916,\n",
       "   'Income growth for low-income families': 25.0},\n",
       "  'weighted_appreciations': {'Return on investment': 5.729335069059441,\n",
       "   'Decrease in biodiversity\\xa0': 18.667192585994936,\n",
       "   'CO2 emission': 15.546157131076729,\n",
       "   'Income growth for low-income families': 6.25}},\n",
       " 'Focus on clean drinking water': {'key_outputs': {'Return on investment': -1338660.0,\n",
       "   'Decrease in biodiversity\\xa0': 867.8907450390521,\n",
       "   'CO2 emission': 1356366.8224299066,\n",
       "   'Income growth for low-income families': 4380.841121495328},\n",
       "  'appreciations': {'Return on investment': 30.471134524980403,\n",
       "   'Decrease in biodiversity\\xa0': 99.99999720599605,\n",
       "   'CO2 emission': 0.0,\n",
       "   'Income growth for low-income families': -0.0},\n",
       "  'weighted_appreciations': {'Return on investment': 7.617783631245101,\n",
       "   'Decrease in biodiversity\\xa0': 24.999999301499013,\n",
       "   'CO2 emission': 0.0,\n",
       "   'Income growth for low-income families': -0.0}},\n",
       " 'Focus on cryptocurrency': {'key_outputs': {'Return on investment': -4938660.0,\n",
       "   'Decrease in biodiversity\\xa0': 867.8906812208703,\n",
       "   'CO2 emission': 930912.2769753612,\n",
       "   'Income growth for low-income families': 4380.841121495328},\n",
       "  'appreciations': {'Return on investment': -0.0,\n",
       "   'Decrease in biodiversity\\xa0': 100.0,\n",
       "   'CO2 emission': 49.15966386554621,\n",
       "   'Income growth for low-income families': -0.0},\n",
       "  'weighted_appreciations': {'Return on investment': -0.0,\n",
       "   'Decrease in biodiversity\\xa0': 25.0,\n",
       "   'CO2 emission': 12.289915966386552,\n",
       "   'Income growth for low-income families': -0.0}},\n",
       " 'Focus on pig farms': {'key_outputs': {'Return on investment': -1318660.0,\n",
       "   'Decrease in biodiversity\\xa0': 3152.0027647535812,\n",
       "   'CO2 emission': 494557.1367884452,\n",
       "   'Income growth for low-income families': 16063.084112149532},\n",
       "  'appreciations': {'Return on investment': 30.64041860567474,\n",
       "   'Decrease in biodiversity\\xa0': 0.0,\n",
       "   'CO2 emission': 99.57885023168146,\n",
       "   'Income growth for low-income families': 100.0},\n",
       "  'weighted_appreciations': {'Return on investment': 7.660104651418685,\n",
       "   'Decrease in biodiversity\\xa0': 0.0,\n",
       "   'CO2 emission': 24.894712557920364,\n",
       "   'Income growth for low-income families': 25.0}},\n",
       " 'Focus on wind turbines': {'key_outputs': {'Return on investment': -1328420.0,\n",
       "   'Decrease in biodiversity\\xa0': 898.1532437922989,\n",
       "   'CO2 emission': 490912.27697536105,\n",
       "   'Income growth for low-income families': 4380.841121495328},\n",
       "  'appreciations': {'Return on investment': 30.557807974295905,\n",
       "   'Decrease in biodiversity\\xa0': 98.67508416992291,\n",
       "   'CO2 emission': 100.0,\n",
       "   'Income growth for low-income families': -0.0},\n",
       "  'weighted_appreciations': {'Return on investment': 7.639451993573976,\n",
       "   'Decrease in biodiversity\\xa0': 24.668771042480728,\n",
       "   'CO2 emission': 25.0,\n",
       "   'Income growth for low-income families': -0.0}}}"
      ]
     },
     "execution_count": 48,
     "metadata": {},
     "output_type": "execute_result"
    }
   ],
   "source": [
    "case.output_dict['Pessimistic']"
   ]
  },
  {
   "cell_type": "markdown",
   "metadata": {},
   "source": [
    "### Visualization of output\n",
    "Having evaluated and appreciated the full case, it is time to start creating some visuals. We will do this using the generated `output_dict` and the `visualize` function. This function uses a display format (currently 'table' or 'barchart') and the key of the result as stored in `output_dict` (e.g. `key_outputs` or `weighted_appreciations`).\n",
    "\n",
    "Visualizations are generated using the following rules:\n",
    "\n",
    "- `table`: 2- or 3-dimensional tables. Rows contain scenarios and/or key outputs (both if 3-dimensional, choose one if 2-dimensional). Columns are decision makers options. \n",
    "- `barchart`:\n",
    "    - 3-dimensional is not possible. Specify a scenario if the `key` in the `output_dict` is associated with three dimensions\n",
    "    - 1 or 2-dimensional: decision makers options are always on the horizontal axis. For 2-dimensional barchart it can be either `stacked` or `dodged`. "
   ]
  },
  {
   "cell_type": "code",
   "execution_count": 49,
   "metadata": {
    "ExecuteTime": {
     "end_time": "2023-09-01T11:43:20.899014500Z",
     "start_time": "2023-09-01T11:43:20.661619100Z"
    }
   },
   "outputs": [
    {
     "data": {
      "text/html": [
       "<style type=\"text/css\">\n",
       "#T_54df6_row0_col0, #T_54df6_row3_col0 {\n",
       "  background-color: #e3eef8;\n",
       "  color: #000000;\n",
       "}\n",
       "#T_54df6_row0_col1, #T_54df6_row1_col3, #T_54df6_row2_col3, #T_54df6_row3_col4 {\n",
       "  background-color: #c8dcf0;\n",
       "  color: #000000;\n",
       "}\n",
       "#T_54df6_row0_col2 {\n",
       "  background-color: #dce9f6;\n",
       "  color: #000000;\n",
       "}\n",
       "#T_54df6_row0_col3, #T_54df6_row0_col4, #T_54df6_row1_col1, #T_54df6_row1_col2, #T_54df6_row1_col4, #T_54df6_row2_col1, #T_54df6_row2_col2, #T_54df6_row2_col4, #T_54df6_row3_col1 {\n",
       "  background-color: #f7fbff;\n",
       "  color: #000000;\n",
       "}\n",
       "#T_54df6_row1_col0 {\n",
       "  background-color: #eaf2fb;\n",
       "  color: #000000;\n",
       "}\n",
       "#T_54df6_row2_col0, #T_54df6_row3_col3 {\n",
       "  background-color: #f1f7fd;\n",
       "  color: #000000;\n",
       "}\n",
       "#T_54df6_row3_col2 {\n",
       "  background-color: #d5e5f4;\n",
       "  color: #000000;\n",
       "}\n",
       "</style>\n",
       "<table id=\"T_54df6\">\n",
       "  <caption>Values of key outputs | Base case</caption>\n",
       "  <thead>\n",
       "    <tr>\n",
       "      <th class=\"blank\" >&nbsp;</th>\n",
       "      <th class=\"blank level0\" >&nbsp;</th>\n",
       "      <th id=\"T_54df6_level0_col0\" class=\"col_heading level0 col0\" >Equal spread</th>\n",
       "      <th id=\"T_54df6_level0_col1\" class=\"col_heading level0 col1\" >Focus on clean drinking water</th>\n",
       "      <th id=\"T_54df6_level0_col2\" class=\"col_heading level0 col2\" >Focus on cryptocurrency</th>\n",
       "      <th id=\"T_54df6_level0_col3\" class=\"col_heading level0 col3\" >Focus on pig farms</th>\n",
       "      <th id=\"T_54df6_level0_col4\" class=\"col_heading level0 col4\" >Focus on wind turbines</th>\n",
       "    </tr>\n",
       "  </thead>\n",
       "  <tbody>\n",
       "    <tr>\n",
       "      <th id=\"T_54df6_level0_row0\" class=\"row_heading level0 row0\" rowspan=\"4\">Base case</th>\n",
       "      <th id=\"T_54df6_level1_row0\" class=\"row_heading level1 row0\" >CO2 emission</th>\n",
       "      <td id=\"T_54df6_row0_col0\" class=\"data row0 col0\" >818.2K</td>\n",
       "      <td id=\"T_54df6_row0_col1\" class=\"data row0 col1\" >1.4M</td>\n",
       "      <td id=\"T_54df6_row0_col2\" class=\"data row0 col2\" >930.9K</td>\n",
       "      <td id=\"T_54df6_row0_col3\" class=\"data row0 col3\" >494.6K</td>\n",
       "      <td id=\"T_54df6_row0_col4\" class=\"data row0 col4\" >490.9K</td>\n",
       "    </tr>\n",
       "    <tr>\n",
       "      <th id=\"T_54df6_level1_row1\" class=\"row_heading level1 row1\" >Decrease in biodiversity </th>\n",
       "      <td id=\"T_54df6_row1_col0\" class=\"data row1 col0\" >1.4K</td>\n",
       "      <td id=\"T_54df6_row1_col1\" class=\"data row1 col1\" >867.89</td>\n",
       "      <td id=\"T_54df6_row1_col2\" class=\"data row1 col2\" >867.89</td>\n",
       "      <td id=\"T_54df6_row1_col3\" class=\"data row1 col3\" >3.2K</td>\n",
       "      <td id=\"T_54df6_row1_col4\" class=\"data row1 col4\" >898.15</td>\n",
       "    </tr>\n",
       "    <tr>\n",
       "      <th id=\"T_54df6_level1_row2\" class=\"row_heading level1 row2\" >Income growth for low-income families</th>\n",
       "      <td id=\"T_54df6_row2_col0\" class=\"data row2 col0\" >7.3K</td>\n",
       "      <td id=\"T_54df6_row2_col1\" class=\"data row2 col1\" >4.4K</td>\n",
       "      <td id=\"T_54df6_row2_col2\" class=\"data row2 col2\" >4.4K</td>\n",
       "      <td id=\"T_54df6_row2_col3\" class=\"data row2 col3\" >16.1K</td>\n",
       "      <td id=\"T_54df6_row2_col4\" class=\"data row2 col4\" >4.4K</td>\n",
       "    </tr>\n",
       "    <tr>\n",
       "      <th id=\"T_54df6_level1_row3\" class=\"row_heading level1 row3\" >Return on investment</th>\n",
       "      <td id=\"T_54df6_row3_col0\" class=\"data row3 col0\" >639.0K</td>\n",
       "      <td id=\"T_54df6_row3_col1\" class=\"data row3 col1\" >383.4K</td>\n",
       "      <td id=\"T_54df6_row3_col2\" class=\"data row3 col2\" >783.4K</td>\n",
       "      <td id=\"T_54df6_row3_col3\" class=\"data row3 col3\" >463.4K</td>\n",
       "      <td id=\"T_54df6_row3_col4\" class=\"data row3 col4\" >925.8K</td>\n",
       "    </tr>\n",
       "  </tbody>\n",
       "</table>\n"
      ],
      "text/plain": [
       "<pandas.io.formats.style.Styler at 0x19856c37610>"
      ]
     },
     "execution_count": 49,
     "metadata": {},
     "output_type": "execute_result"
    }
   ],
   "source": [
    "case.visualize('table', 'key_outputs', scenario='Base case')"
   ]
  },
  {
   "cell_type": "markdown",
   "metadata": {},
   "source": [
    "Comparing key outputs for each decision makers option can become difficult: the ranges of the three key outputs vary wildly. For better comparisons, we can therefore look at the weighted appreciations:"
   ]
  },
  {
   "cell_type": "code",
   "execution_count": 50,
   "metadata": {
    "ExecuteTime": {
     "end_time": "2023-09-01T11:43:20.960869800Z",
     "start_time": "2023-09-01T11:43:20.899014500Z"
    }
   },
   "outputs": [
    {
     "data": {
      "text/html": [
       "<style type=\"text/css\">\n",
       "#T_1cb5b_row0_col0 {\n",
       "  background-color: #dce9f6;\n",
       "  color: #000000;\n",
       "}\n",
       "#T_1cb5b_row0_col1, #T_1cb5b_row1_col3, #T_1cb5b_row2_col1, #T_1cb5b_row2_col2, #T_1cb5b_row2_col4, #T_1cb5b_row3_col1 {\n",
       "  background-color: #f7fbff;\n",
       "  color: #000000;\n",
       "}\n",
       "#T_1cb5b_row0_col2, #T_1cb5b_row3_col0 {\n",
       "  background-color: #e3eef8;\n",
       "  color: #000000;\n",
       "}\n",
       "#T_1cb5b_row0_col3, #T_1cb5b_row0_col4, #T_1cb5b_row1_col1, #T_1cb5b_row1_col2, #T_1cb5b_row1_col4, #T_1cb5b_row2_col3, #T_1cb5b_row3_col4 {\n",
       "  background-color: #c8dcf0;\n",
       "  color: #000000;\n",
       "}\n",
       "#T_1cb5b_row1_col0, #T_1cb5b_row3_col2 {\n",
       "  background-color: #d5e5f4;\n",
       "  color: #000000;\n",
       "}\n",
       "#T_1cb5b_row2_col0 {\n",
       "  background-color: #eaf2fb;\n",
       "  color: #000000;\n",
       "}\n",
       "#T_1cb5b_row3_col3 {\n",
       "  background-color: #f1f7fd;\n",
       "  color: #000000;\n",
       "}\n",
       "</style>\n",
       "<table id=\"T_1cb5b\">\n",
       "  <caption>Values of weighted appreciations | Base case</caption>\n",
       "  <thead>\n",
       "    <tr>\n",
       "      <th class=\"blank\" >&nbsp;</th>\n",
       "      <th class=\"blank level0\" >&nbsp;</th>\n",
       "      <th id=\"T_1cb5b_level0_col0\" class=\"col_heading level0 col0\" >Equal spread</th>\n",
       "      <th id=\"T_1cb5b_level0_col1\" class=\"col_heading level0 col1\" >Focus on clean drinking water</th>\n",
       "      <th id=\"T_1cb5b_level0_col2\" class=\"col_heading level0 col2\" >Focus on cryptocurrency</th>\n",
       "      <th id=\"T_1cb5b_level0_col3\" class=\"col_heading level0 col3\" >Focus on pig farms</th>\n",
       "      <th id=\"T_1cb5b_level0_col4\" class=\"col_heading level0 col4\" >Focus on wind turbines</th>\n",
       "    </tr>\n",
       "  </thead>\n",
       "  <tbody>\n",
       "    <tr>\n",
       "      <th id=\"T_1cb5b_level0_row0\" class=\"row_heading level0 row0\" rowspan=\"4\">Base case</th>\n",
       "      <th id=\"T_1cb5b_level1_row0\" class=\"row_heading level1 row0\" >CO2 emission</th>\n",
       "      <td id=\"T_1cb5b_row0_col0\" class=\"data row0 col0\" >15.55</td>\n",
       "      <td id=\"T_1cb5b_row0_col1\" class=\"data row0 col1\" >0.00</td>\n",
       "      <td id=\"T_1cb5b_row0_col2\" class=\"data row0 col2\" >12.29</td>\n",
       "      <td id=\"T_1cb5b_row0_col3\" class=\"data row0 col3\" >24.89</td>\n",
       "      <td id=\"T_1cb5b_row0_col4\" class=\"data row0 col4\" >25.00</td>\n",
       "    </tr>\n",
       "    <tr>\n",
       "      <th id=\"T_1cb5b_level1_row1\" class=\"row_heading level1 row1\" >Decrease in biodiversity </th>\n",
       "      <td id=\"T_1cb5b_row1_col0\" class=\"data row1 col0\" >18.67</td>\n",
       "      <td id=\"T_1cb5b_row1_col1\" class=\"data row1 col1\" >25.00</td>\n",
       "      <td id=\"T_1cb5b_row1_col2\" class=\"data row1 col2\" >25.00</td>\n",
       "      <td id=\"T_1cb5b_row1_col3\" class=\"data row1 col3\" >0.00</td>\n",
       "      <td id=\"T_1cb5b_row1_col4\" class=\"data row1 col4\" >24.67</td>\n",
       "    </tr>\n",
       "    <tr>\n",
       "      <th id=\"T_1cb5b_level1_row2\" class=\"row_heading level1 row2\" >Income growth for low-income families</th>\n",
       "      <td id=\"T_1cb5b_row2_col0\" class=\"data row2 col0\" >6.25</td>\n",
       "      <td id=\"T_1cb5b_row2_col1\" class=\"data row2 col1\" >-0.00</td>\n",
       "      <td id=\"T_1cb5b_row2_col2\" class=\"data row2 col2\" >-0.00</td>\n",
       "      <td id=\"T_1cb5b_row2_col3\" class=\"data row2 col3\" >25.00</td>\n",
       "      <td id=\"T_1cb5b_row2_col4\" class=\"data row2 col4\" >-0.00</td>\n",
       "    </tr>\n",
       "    <tr>\n",
       "      <th id=\"T_1cb5b_level1_row3\" class=\"row_heading level1 row3\" >Return on investment</th>\n",
       "      <td id=\"T_1cb5b_row3_col0\" class=\"data row3 col0\" >11.80</td>\n",
       "      <td id=\"T_1cb5b_row3_col1\" class=\"data row3 col1\" >11.26</td>\n",
       "      <td id=\"T_1cb5b_row3_col2\" class=\"data row3 col2\" >12.11</td>\n",
       "      <td id=\"T_1cb5b_row3_col3\" class=\"data row3 col3\" >11.43</td>\n",
       "      <td id=\"T_1cb5b_row3_col4\" class=\"data row3 col4\" >12.41</td>\n",
       "    </tr>\n",
       "  </tbody>\n",
       "</table>\n"
      ],
      "text/plain": [
       "<pandas.io.formats.style.Styler at 0x19856c1c190>"
      ]
     },
     "execution_count": 50,
     "metadata": {},
     "output_type": "execute_result"
    }
   ],
   "source": [
    "case.visualize('table', 'weighted_appreciations', scenario=\"Base case\")"
   ]
  },
  {
   "cell_type": "code",
   "execution_count": 51,
   "metadata": {
    "ExecuteTime": {
     "end_time": "2023-09-01T11:43:21.398737200Z",
     "start_time": "2023-09-01T11:43:20.945211500Z"
    }
   },
   "outputs": [
    {
     "data": {
      "image/png": "[encoded data removed]",
      "text/plain": [
       "<Figure size 1000x500 with 1 Axes>"
      ]
     },
     "metadata": {},
     "output_type": "display_data"
    }
   ],
   "source": [
    "case.visualize(visual_request='barchart', key='weighted_appreciations', scenario=\"Base case\")"
   ]
  },
  {
   "cell_type": "markdown",
   "metadata": {},
   "source": [
    "### (Ideas for extra data science)\n",
    "- Change to Nyenrode colors\n",
    "- Add labels to the grpahs. Add the number/total appreciation value\n",
    "- Use an alternative way of visualization\n",
    "- Subplots with all the cases next to each other\n",
    "- "
   ]
  },
  {
   "cell_type": "markdown",
   "metadata": {},
   "source": [
    "### Transforming the case into a different format (optional)\n",
    "We can transform a case into a different format. The `transform` function creates a folder named as the file extension and stores this at the provided location (here: in the folder where the repo is stored)"
   ]
  },
  {
   "cell_type": "code",
   "execution_count": 52,
   "metadata": {
    "ExecuteTime": {
     "end_time": "2023-09-01T11:43:23.436425200Z",
     "start_time": "2023-09-01T11:43:21.398737200Z"
    }
   },
   "outputs": [
    {
     "name": "stdout",
     "output_type": "stream",
     "text": [
      "Folder 'json' already exists. \n",
      "Folder 'csv' already exists. \n"
     ]
    }
   ],
   "source": [
    "output_path = Path.cwd().parent.parent\n",
    "case.transform(output_path, \"json\")\n",
    "# case.transform(output_path, \"xlsx\")\n",
    "case.transform(output_path, \"csv\")"
   ]
  }
 ],
 "metadata": {
  "kernelspec": {
   "display_name": "Python 3 (ipykernel)",
   "language": "python",
   "name": "python3"
  },
  "language_info": {
   "codemirror_mode": {
    "name": "ipython",
    "version": 3
   },
   "file_extension": ".py",
   "mimetype": "text/x-python",
   "name": "python",
   "nbconvert_exporter": "python",
   "pygments_lexer": "ipython3",
   "version": "3.9.17"
  }
 },
 "nbformat": 4,
 "nbformat_minor": 1
}
